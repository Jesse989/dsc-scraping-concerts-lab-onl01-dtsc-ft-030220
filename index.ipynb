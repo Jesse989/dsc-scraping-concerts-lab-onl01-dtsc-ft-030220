{
 "cells": [
  {
   "cell_type": "markdown",
   "metadata": {},
   "source": [
    "# Scraping Concerts - Lab\n",
    "\n",
    "## Introduction\n",
    "\n",
    "Now that you've seen how to scrape a simple website, it's time to again practice those skills on a full-fledged site!\n",
    "In this lab, you'll practice your scraping skills on a music website: https://www.residentadvisor.net.\n",
    "## Objectives\n",
    "\n",
    "You will be able to:\n",
    "* Create a full scraping pipeline that involves traversing over many pages of a website, dealing with errors and storing data"
   ]
  },
  {
   "cell_type": "markdown",
   "metadata": {},
   "source": [
    "## View the Website\n",
    "\n",
    "For this lab, you'll be scraping the https://www.residentadvisor.net website. Start by navigating to the events page [here](https://www.residentadvisor.net/events) in your browser.\n",
    "\n",
    "<img src=\"images/ra.png\">"
   ]
  },
  {
   "cell_type": "code",
   "execution_count": null,
   "metadata": {},
   "outputs": [],
   "source": [
    "# Load the https://www.residentadvisor.net/events page in your browser."
   ]
  },
  {
   "cell_type": "markdown",
   "metadata": {},
   "source": [
    "## Open the Inspect Element Feature\n",
    "\n",
    "Next, open the inspect element feature from your web browser in order to preview the underlying HTML associated with the page."
   ]
  },
  {
   "cell_type": "code",
   "execution_count": null,
   "metadata": {},
   "outputs": [],
   "source": [
    "# Open the inspect element feature in your browser"
   ]
  },
  {
   "cell_type": "markdown",
   "metadata": {},
   "source": [
    "## Write a Function to Scrape all of the Events on the Given Page Events Page\n",
    "\n",
    "The function should return a Pandas DataFrame with columns for the Event_Name, Venue, Event_Date and Number_of_Attendees."
   ]
  },
  {
   "cell_type": "code",
   "execution_count": 3,
   "metadata": {},
   "outputs": [],
   "source": [
    "from bs4 import BeautifulSoup\n",
    "import requests\n",
    "import pandas as pd"
   ]
  },
  {
   "cell_type": "code",
   "execution_count": 140,
   "metadata": {},
   "outputs": [],
   "source": [
    "def get_names(soup):\n",
    "    try:\n",
    "        names = []\n",
    "        for h1 in soup.find_all('h1', class_='event-title'):\n",
    "            names.append(h1.a.text.strip())\n",
    "        return names\n",
    "    except AttributeError as e:\n",
    "        print(e)"
   ]
  },
  {
   "cell_type": "code",
   "execution_count": 141,
   "metadata": {},
   "outputs": [
    {
     "data": {
      "text/plain": [
       "[\"Seth's Coming Home Tour\",\n",
       " 'Jacques Greene',\n",
       " 'Transform: Odd Mobb',\n",
       " 'AfterHours Anonymous presents: Maceo Plex',\n",
       " 'Punjahbae',\n",
       " 'Party Favor',\n",
       " 'H.C.P x Miley Serious',\n",
       " 'Archie Hamilton',\n",
       " 'Destructo',\n",
       " \"They're (not) There: Time Ravelers\",\n",
       " 'La Roux',\n",
       " \"Tennyson's Taco Tuesday • Peer Review\"]"
      ]
     },
     "execution_count": 141,
     "metadata": {},
     "output_type": "execute_result"
    }
   ],
   "source": [
    "get_names(events)"
   ]
  },
  {
   "cell_type": "code",
   "execution_count": 146,
   "metadata": {},
   "outputs": [],
   "source": [
    "def get_venues(soup):\n",
    "    venues = []\n",
    "    try:\n",
    "        for h1 in soup.find_all('h1', class_='event-title'):\n",
    "            if h1.span.a == None:\n",
    "                venues.append('TBD')\n",
    "            else:\n",
    "                venues.append(h1.span.a.text)\n",
    "        return venues\n",
    "    except AttributeError as e:\n",
    "        print(e)"
   ]
  },
  {
   "cell_type": "code",
   "execution_count": 147,
   "metadata": {},
   "outputs": [
    {
     "data": {
      "text/plain": [
       "['Vinyl',\n",
       " \"Ophelia's Electric Soapbox\",\n",
       " 'Temple Nightclub',\n",
       " 'TBD',\n",
       " 'Larimer Lounge',\n",
       " 'Temple Nightclub',\n",
       " 'Rhinoceropolis',\n",
       " 'Bar Standard',\n",
       " 'Temple Nightclub',\n",
       " 'TBD',\n",
       " 'Gothic Theatre',\n",
       " \"Tennyson's Tap\"]"
      ]
     },
     "execution_count": 147,
     "metadata": {},
     "output_type": "execute_result"
    }
   ],
   "source": [
    "get_venues(events)"
   ]
  },
  {
   "cell_type": "code",
   "execution_count": 190,
   "metadata": {},
   "outputs": [],
   "source": [
    "def get_dates(soup):\n",
    "    dates = []\n",
    "    try:\n",
    "        for h1 in soup.find_all('h1', class_='event-title'):\n",
    "            dates.append(h1.parent.parent.time.get('datetime'))\n",
    "        return dates\n",
    "    except AttributeError as e:\n",
    "        print(e)"
   ]
  },
  {
   "cell_type": "code",
   "execution_count": 191,
   "metadata": {},
   "outputs": [
    {
     "data": {
      "text/plain": [
       "['2020-03-12T00:00',\n",
       " '2020-03-12T00:00',\n",
       " '2020-03-12T00:00',\n",
       " '2020-03-13T00:00',\n",
       " '2020-03-13T00:00',\n",
       " '2020-03-13T00:00',\n",
       " '2020-03-14T00:00',\n",
       " '2020-03-14T00:00',\n",
       " '2020-03-14T00:00',\n",
       " '2020-03-14T00:00',\n",
       " '2020-03-16T00:00',\n",
       " '2020-03-17T00:00']"
      ]
     },
     "execution_count": 191,
     "metadata": {},
     "output_type": "execute_result"
    }
   ],
   "source": [
    "get_dates(events)"
   ]
  },
  {
   "cell_type": "code",
   "execution_count": 204,
   "metadata": {},
   "outputs": [],
   "source": [
    "def get_attends(soup):\n",
    "    attends = []\n",
    "    try:\n",
    "        for p in soup.find_all('p', class_='attending'):\n",
    "            if p.span.text:\n",
    "                attends.append(int(p.span.text))\n",
    "            else:\n",
    "                attends.append(0)\n",
    "        return attends\n",
    "    except AttributeError as e:\n",
    "        print(e)"
   ]
  },
  {
   "cell_type": "code",
   "execution_count": 201,
   "metadata": {},
   "outputs": [
    {
     "data": {
      "text/plain": [
       "[16, 3, 26, 3, 23, 4, 2, 1, 2, 1]"
      ]
     },
     "execution_count": 201,
     "metadata": {},
     "output_type": "execute_result"
    }
   ],
   "source": [
    "get_attends(events)"
   ]
  },
  {
   "cell_type": "code",
   "execution_count": 202,
   "metadata": {},
   "outputs": [],
   "source": [
    "def get_events_div(page_url):\n",
    "    html = requests.get(page_url)\n",
    "    soup = BeautifulSoup(html.content)\n",
    "    div = soup.find('div', id='event-listing')\n",
    "    return div"
   ]
  },
  {
   "cell_type": "code",
   "execution_count": 139,
   "metadata": {},
   "outputs": [],
   "source": [
    "url = 'https://www.residentadvisor.net/events'\n",
    "events = get_events_div(url)"
   ]
  },
  {
   "cell_type": "code",
   "execution_count": 195,
   "metadata": {},
   "outputs": [],
   "source": [
    "def scrape_events(events_page_url):\n",
    "    #Your code here\n",
    "    events = get_events_div(events_page_url)\n",
    "    data = [ get_names(events), get_venues(events), get_dates(events), get_attends(events)]\n",
    "    df = pd.DataFrame(data).transpose()\n",
    "    df.columns = [\"Event_Name\", \"Venue\", \"Event_Date\", \"Number_of_Attendees\"]\n",
    "    return df"
   ]
  },
  {
   "cell_type": "code",
   "execution_count": 216,
   "metadata": {},
   "outputs": [
    {
     "data": {
      "text/html": [
       "<div>\n",
       "<style scoped>\n",
       "    .dataframe tbody tr th:only-of-type {\n",
       "        vertical-align: middle;\n",
       "    }\n",
       "\n",
       "    .dataframe tbody tr th {\n",
       "        vertical-align: top;\n",
       "    }\n",
       "\n",
       "    .dataframe thead th {\n",
       "        text-align: right;\n",
       "    }\n",
       "</style>\n",
       "<table border=\"1\" class=\"dataframe\">\n",
       "  <thead>\n",
       "    <tr style=\"text-align: right;\">\n",
       "      <th></th>\n",
       "      <th>Event_Name</th>\n",
       "      <th>Venue</th>\n",
       "      <th>Event_Date</th>\n",
       "      <th>Number_of_Attendees</th>\n",
       "    </tr>\n",
       "  </thead>\n",
       "  <tbody>\n",
       "    <tr>\n",
       "      <td>0</td>\n",
       "      <td>Christian Martin</td>\n",
       "      <td>Cervantes' Masterpiece Ballroom</td>\n",
       "      <td>2020-03-19T00:00</td>\n",
       "      <td>1</td>\n",
       "    </tr>\n",
       "    <tr>\n",
       "      <td>1</td>\n",
       "      <td>Elsewhere feat. Gettoblaster</td>\n",
       "      <td>Larimer Lounge</td>\n",
       "      <td>2020-03-19T00:00</td>\n",
       "      <td>1</td>\n",
       "    </tr>\n",
       "    <tr>\n",
       "      <td>2</td>\n",
       "      <td>Armnhmr</td>\n",
       "      <td>Bluebird Theater</td>\n",
       "      <td>2020-03-19T00:00</td>\n",
       "      <td>27</td>\n",
       "    </tr>\n",
       "    <tr>\n",
       "      <td>3</td>\n",
       "      <td>Prince Fox</td>\n",
       "      <td>Temple Nightclub</td>\n",
       "      <td>2020-03-19T00:00</td>\n",
       "      <td>2</td>\n",
       "    </tr>\n",
       "    <tr>\n",
       "      <td>4</td>\n",
       "      <td>[CANCELLED] Robag Wruhme &amp; Leafar Legov: Below...</td>\n",
       "      <td>Cervantes' Masterpiece Ballroom</td>\n",
       "      <td>2020-03-20T00:00</td>\n",
       "      <td>2</td>\n",
       "    </tr>\n",
       "    <tr>\n",
       "      <td>5</td>\n",
       "      <td>We Should Remember This feat. Straight White T...</td>\n",
       "      <td>TBD</td>\n",
       "      <td>2020-03-20T00:00</td>\n",
       "      <td>2</td>\n",
       "    </tr>\n",
       "    <tr>\n",
       "      <td>6</td>\n",
       "      <td>Chris Stussy</td>\n",
       "      <td>Bar Standard</td>\n",
       "      <td>2020-03-20T00:00</td>\n",
       "      <td>2</td>\n",
       "    </tr>\n",
       "    <tr>\n",
       "      <td>7</td>\n",
       "      <td>Kristian Nairn</td>\n",
       "      <td>Temple Nightclub</td>\n",
       "      <td>2020-03-20T00:00</td>\n",
       "      <td>1</td>\n",
       "    </tr>\n",
       "    <tr>\n",
       "      <td>8</td>\n",
       "      <td>We Should Remember This feat. Straight White T...</td>\n",
       "      <td>TBD</td>\n",
       "      <td>2020-03-21T00:00</td>\n",
       "      <td>1</td>\n",
       "    </tr>\n",
       "    <tr>\n",
       "      <td>9</td>\n",
       "      <td>Classixx (DJ Set) Touch Sensitive (DJ Set)</td>\n",
       "      <td>Vinyl</td>\n",
       "      <td>2020-03-21T00:00</td>\n",
       "      <td>None</td>\n",
       "    </tr>\n",
       "    <tr>\n",
       "      <td>10</td>\n",
       "      <td>Kap Slap</td>\n",
       "      <td>Temple Nightclub</td>\n",
       "      <td>2020-03-21T00:00</td>\n",
       "      <td>None</td>\n",
       "    </tr>\n",
       "    <tr>\n",
       "      <td>11</td>\n",
       "      <td>Junk Drawer Feat. livwutang</td>\n",
       "      <td>Trade</td>\n",
       "      <td>2020-03-21T00:00</td>\n",
       "      <td>None</td>\n",
       "    </tr>\n",
       "    <tr>\n",
       "      <td>12</td>\n",
       "      <td>Spag Heddy</td>\n",
       "      <td>Ogden Theatre</td>\n",
       "      <td>2020-03-21T00:00</td>\n",
       "      <td>None</td>\n",
       "    </tr>\n",
       "    <tr>\n",
       "      <td>13</td>\n",
       "      <td>WCW: Sicaria Sound</td>\n",
       "      <td>The Black Box</td>\n",
       "      <td>2020-03-25T00:00</td>\n",
       "      <td>None</td>\n",
       "    </tr>\n",
       "  </tbody>\n",
       "</table>\n",
       "</div>"
      ],
      "text/plain": [
       "                                           Event_Name  \\\n",
       "0                                    Christian Martin   \n",
       "1                        Elsewhere feat. Gettoblaster   \n",
       "2                                             Armnhmr   \n",
       "3                                          Prince Fox   \n",
       "4   [CANCELLED] Robag Wruhme & Leafar Legov: Below...   \n",
       "5   We Should Remember This feat. Straight White T...   \n",
       "6                                        Chris Stussy   \n",
       "7                                      Kristian Nairn   \n",
       "8   We Should Remember This feat. Straight White T...   \n",
       "9          Classixx (DJ Set) Touch Sensitive (DJ Set)   \n",
       "10                                           Kap Slap   \n",
       "11                        Junk Drawer Feat. livwutang   \n",
       "12                                         Spag Heddy   \n",
       "13                                 WCW: Sicaria Sound   \n",
       "\n",
       "                              Venue        Event_Date Number_of_Attendees  \n",
       "0   Cervantes' Masterpiece Ballroom  2020-03-19T00:00                   1  \n",
       "1                    Larimer Lounge  2020-03-19T00:00                   1  \n",
       "2                  Bluebird Theater  2020-03-19T00:00                  27  \n",
       "3                  Temple Nightclub  2020-03-19T00:00                   2  \n",
       "4   Cervantes' Masterpiece Ballroom  2020-03-20T00:00                   2  \n",
       "5                               TBD  2020-03-20T00:00                   2  \n",
       "6                      Bar Standard  2020-03-20T00:00                   2  \n",
       "7                  Temple Nightclub  2020-03-20T00:00                   1  \n",
       "8                               TBD  2020-03-21T00:00                   1  \n",
       "9                             Vinyl  2020-03-21T00:00                None  \n",
       "10                 Temple Nightclub  2020-03-21T00:00                None  \n",
       "11                            Trade  2020-03-21T00:00                None  \n",
       "12                    Ogden Theatre  2020-03-21T00:00                None  \n",
       "13                    The Black Box  2020-03-25T00:00                None  "
      ]
     },
     "execution_count": 216,
     "metadata": {},
     "output_type": "execute_result"
    }
   ],
   "source": [
    "scrape_events(next_page(url))"
   ]
  },
  {
   "cell_type": "markdown",
   "metadata": {},
   "source": [
    "## Write a Function to Retrieve the URL for the Next Page"
   ]
  },
  {
   "cell_type": "code",
   "execution_count": 213,
   "metadata": {},
   "outputs": [],
   "source": [
    "def next_page(url):\n",
    "    #Your code here\n",
    "    base_url = url[:38]\n",
    "    try:\n",
    "        html = requests.get(url)\n",
    "        soup = BeautifulSoup(html.content)\n",
    "        next_page_url = soup.find('a', attrs={'ga-event-action': 'Next '}).get('href')\n",
    "        next_page_url = (\"/\").join(next_page_url.split('/')[2:])\n",
    "        return (base_url + '/' + next_page_url)\n",
    "    except AttributeError as e:\n",
    "        print(e)"
   ]
  },
  {
   "cell_type": "code",
   "execution_count": 215,
   "metadata": {},
   "outputs": [
    {
     "data": {
      "text/plain": [
       "'https://www.residentadvisor.net/events/us/colorado/week/2020-03-26'"
      ]
     },
     "execution_count": 215,
     "metadata": {},
     "output_type": "execute_result"
    }
   ],
   "source": [
    "next_page('https://www.residentadvisor.net/events/us/colorado/week/2020-03-19')"
   ]
  },
  {
   "cell_type": "markdown",
   "metadata": {},
   "source": [
    "## Scrape the Next 1000 Events for Your Area\n",
    "\n",
    "Display the data sorted by the number of attendees. If there is a tie for the number attending, sort by event date."
   ]
  },
  {
   "cell_type": "code",
   "execution_count": 232,
   "metadata": {},
   "outputs": [
    {
     "name": "stdout",
     "output_type": "stream",
     "text": [
      "'NoneType' object has no attribute 'get'\n",
      "err\n"
     ]
    }
   ],
   "source": [
    "#Your code here\n",
    "num_events = 0\n",
    "url = 'https://www.residentadvisor.net/events'\n",
    "cols = [\"Event_Name\", \"Venue\", \"Event_Date\", \"Number_of_Attendees\"]\n",
    "df = pd.DataFrame(columns = cols)\n",
    "\n",
    "while num_events < 100:\n",
    "    try:\n",
    "        new_df = scrape_events(url)\n",
    "        df = df.append(new_df)\n",
    "        url = next_page(url)\n",
    "        num_events = df.shape[0]\n",
    "    except:\n",
    "        print('err')\n",
    "        break"
   ]
  },
  {
   "cell_type": "code",
   "execution_count": 236,
   "metadata": {},
   "outputs": [
    {
     "data": {
      "text/html": [
       "<div>\n",
       "<style scoped>\n",
       "    .dataframe tbody tr th:only-of-type {\n",
       "        vertical-align: middle;\n",
       "    }\n",
       "\n",
       "    .dataframe tbody tr th {\n",
       "        vertical-align: top;\n",
       "    }\n",
       "\n",
       "    .dataframe thead th {\n",
       "        text-align: right;\n",
       "    }\n",
       "</style>\n",
       "<table border=\"1\" class=\"dataframe\">\n",
       "  <thead>\n",
       "    <tr style=\"text-align: right;\">\n",
       "      <th></th>\n",
       "      <th>Event_Name</th>\n",
       "      <th>Venue</th>\n",
       "      <th>Event_Date</th>\n",
       "      <th>Number_of_Attendees</th>\n",
       "    </tr>\n",
       "  </thead>\n",
       "  <tbody>\n",
       "    <tr>\n",
       "      <td>1</td>\n",
       "      <td>All Day I Dream of the Mile High City</td>\n",
       "      <td>Sculpture Park</td>\n",
       "      <td>2020-05-30T00:00</td>\n",
       "      <td>217</td>\n",
       "    </tr>\n",
       "    <tr>\n",
       "      <td>2</td>\n",
       "      <td>Mersiv</td>\n",
       "      <td>Ogden Theatre</td>\n",
       "      <td>2020-03-27T00:00</td>\n",
       "      <td>37</td>\n",
       "    </tr>\n",
       "    <tr>\n",
       "      <td>3</td>\n",
       "      <td>Black Caviar</td>\n",
       "      <td>Temple Nightclub</td>\n",
       "      <td>2020-03-27T00:00</td>\n",
       "      <td>28</td>\n",
       "    </tr>\n",
       "    <tr>\n",
       "      <td>2</td>\n",
       "      <td>Armnhmr</td>\n",
       "      <td>Bluebird Theater</td>\n",
       "      <td>2020-03-19T00:00</td>\n",
       "      <td>27</td>\n",
       "    </tr>\n",
       "    <tr>\n",
       "      <td>2</td>\n",
       "      <td>Transform: Odd Mobb</td>\n",
       "      <td>Temple Nightclub</td>\n",
       "      <td>2020-03-12T00:00</td>\n",
       "      <td>26</td>\n",
       "    </tr>\n",
       "  </tbody>\n",
       "</table>\n",
       "</div>"
      ],
      "text/plain": [
       "                              Event_Name             Venue        Event_Date  \\\n",
       "1  All Day I Dream of the Mile High City    Sculpture Park  2020-05-30T00:00   \n",
       "2                                 Mersiv     Ogden Theatre  2020-03-27T00:00   \n",
       "3                           Black Caviar  Temple Nightclub  2020-03-27T00:00   \n",
       "2                                Armnhmr  Bluebird Theater  2020-03-19T00:00   \n",
       "2                    Transform: Odd Mobb  Temple Nightclub  2020-03-12T00:00   \n",
       "\n",
       "  Number_of_Attendees  \n",
       "1                 217  \n",
       "2                  37  \n",
       "3                  28  \n",
       "2                  27  \n",
       "2                  26  "
      ]
     },
     "execution_count": 236,
     "metadata": {},
     "output_type": "execute_result"
    }
   ],
   "source": [
    "df.sort_values(['Number_of_Attendees', 'Event_Date'], ascending=False).head()"
   ]
  },
  {
   "cell_type": "markdown",
   "metadata": {},
   "source": [
    "## Summary \n",
    "\n",
    "Congratulations! In this lab, you successfully developed a pipeline to scrape a website for concert event information!"
   ]
  }
 ],
 "metadata": {
  "kernelspec": {
   "display_name": "Python 3",
   "language": "python",
   "name": "python3"
  },
  "language_info": {
   "codemirror_mode": {
    "name": "ipython",
    "version": 3
   },
   "file_extension": ".py",
   "mimetype": "text/x-python",
   "name": "python",
   "nbconvert_exporter": "python",
   "pygments_lexer": "ipython3",
   "version": "3.6.9"
  }
 },
 "nbformat": 4,
 "nbformat_minor": 2
}
